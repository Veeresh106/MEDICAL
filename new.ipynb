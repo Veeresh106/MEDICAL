{
 "cells": [
  {
   "cell_type": "code",
   "execution_count": null,
   "metadata": {},
   "outputs": [],
   "source": [
    "#vowel or not\n",
    "def vowel():\n",
    "    ch=input(\"Enter letter:\")\n",
    "    if ch in(\"a\",\"e\",\"i\",\"o\",\"u\",\"A\",\"E\",\"I\",\"O\",\"U\"):\n",
    "        print(\"vowel\")\n",
    "    else:\n",
    "        print(\"constant\")\n",
    "vowel()"
   ]
  },
  {
   "cell_type": "code",
   "execution_count": null,
   "metadata": {},
   "outputs": [],
   "source": [
    "#calling function in function\n",
    "def sub():\n",
    "    d,f=map(int, input(\"ENTER THE SUB VALUE:\").split())\n",
    "    s=(d-f)\n",
    "    print(s)\n",
    "def avg():\n",
    "    a,b,c=map(int, input(\"Enter the values:\").split())\n",
    "    avr=(a+b+c)/3\n",
    "    print(avr)\n",
    "    sub()\n",
    "avg()"
   ]
  },
  {
   "cell_type": "code",
   "execution_count": null,
   "metadata": {},
   "outputs": [
    {
     "name": "stdout",
     "output_type": "stream",
     "text": [
      "100\n"
     ]
    }
   ],
   "source": [
    "#lambda function\n",
    "f= lambda n:n*n\n",
    "print (f(10))"
   ]
  },
  {
   "cell_type": "code",
   "execution_count": null,
   "metadata": {},
   "outputs": [
    {
     "name": "stdout",
     "output_type": "stream",
     "text": [
      "[11, 13]\n",
      "[22, 26]\n",
      "(<function <lambda> at 0x0000021C578DCFE0>, [22, 26])\n"
     ]
    }
   ],
   "source": [
    "nums=[10,20,11,13,256,44]\n",
    "even=list(filter(lambda a:a%2==1,nums))\n",
    "print(even)\n",
    "doubles=list(map(lambda a:a*2,even))\n",
    "print(doubles)\n",
    "s=(lambda a,b:a+b,doubles)\n",
    "print(s)"
   ]
  },
  {
   "cell_type": "code",
   "execution_count": null,
   "metadata": {},
   "outputs": [
    {
     "name": "stdout",
     "output_type": "stream",
     "text": [
      "[10, 20, 11, 13, 256, 44]\n"
     ]
    }
   ],
   "source": [
    "lst=[10,20,11,13,256,44]\n",
    "lst.append(\"head\")\n",
    "print(lst)"
   ]
  },
  {
   "cell_type": "code",
   "execution_count": 2,
   "metadata": {},
   "outputs": [
    {
     "name": "stdout",
     "output_type": "stream",
     "text": [
      "[0, 1, 4, 9, 16]\n"
     ]
    }
   ],
   "source": [
    "'''list comprehension'''\n",
    "x=[n*n for n in range(5)]\n",
    "print(x)"
   ]
  },
  {
   "cell_type": "code",
   "execution_count": null,
   "metadata": {},
   "outputs": [],
   "source": [
    "movies=[]\n",
    "mov1=input(\"1ST movie:\")\n",
    "mov2=input(\"2nd movie:\")\n",
    "mov3=input(\"3rd movie:\")\n",
    "movies.append(mov1,mov2,mov3)\n",
    "print(movies)"
   ]
  },
  {
   "cell_type": "code",
   "execution_count": 2,
   "metadata": {},
   "outputs": [
    {
     "name": "stdout",
     "output_type": "stream",
     "text": [
      "list is palindrom list\n"
     ]
    }
   ],
   "source": [
    "'''PALINDROM'''\n",
    "lst=[1,2,3,2,1]\n",
    "lst1=lst.copy()\n",
    "if lst==lst1:\n",
    "    print(\"list is palindrom list\")\n",
    "else:\n",
    "    print(\"not a palindrome\")"
   ]
  },
  {
   "cell_type": "code",
   "execution_count": null,
   "metadata": {},
   "outputs": [
    {
     "name": "stdout",
     "output_type": "stream",
     "text": [
      "[1, 2, 'fizz', 4, 'buzz', 'fizz', 7, 8, 'fizz', 'buzz', 11, 'fizz', 13, 14, 'fizzbuzz']\n"
     ]
    }
   ],
   "source": [
    "\n",
    "m=[]\n",
    "def fizzbuzz(n):\n",
    "    for i in range(1,n+1):\n",
    "        if i%3==0 and i%5==0:\n",
    "            m.append(\"fizzbuzz\")\n",
    "        elif i%3==0:\n",
    "            m.append(\"fizz\")\n",
    "        elif i%5==0:\n",
    "            m.append(\"buzz\")\n",
    "        else:\n",
    "            m.append(i)\n",
    "    print(m)\n",
    "fizzbuzz(15)\n"
   ]
  },
  {
   "cell_type": "code",
   "execution_count": null,
   "metadata": {},
   "outputs": [
    {
     "name": "stdout",
     "output_type": "stream",
     "text": [
      "[30, 20, 10]\n"
     ]
    }
   ],
   "source": [
    "#reversing list manually\n",
    "def lol():\n",
    " lst=[10,20,30]\n",
    " l=len(lst)\n",
    " m=[]\n",
    " for i in range(l-1,-1,-1):\n",
    "     m.append(lst[i])\n",
    " return m\n",
    "print(lol())\n"
   ]
  },
  {
   "cell_type": "code",
   "execution_count": null,
   "metadata": {},
   "outputs": [
    {
     "name": "stdout",
     "output_type": "stream",
     "text": [
      "[1, 2, 3, 4, 5, 6, 7, 8]\n"
     ]
    }
   ],
   "source": [
    "#merging 2 list manually\n",
    "def merge_sorted_lists(lst1,lst2):\n",
    "    i,j=0,0\n",
    "    m=[]\n",
    "    while i<len(lst1) and j<len(lst2):\n",
    "        if lst1[i]<lst2[j]:\n",
    "           m.append(lst1[i])\n",
    "           i+=1\n",
    "        else:\n",
    "           m.append(lst2[j])\n",
    "           j+=1\n",
    "    \n",
    "    while j<len(lst2):\n",
    "        m.append(lst2[j])\n",
    "        j+=1\n",
    "    return m \n",
    "\n",
    "lst1=[1,3,5,7]\n",
    "lst2=[2,4,6,8]\n",
    "print(merge_sorted_lists(lst1,lst2))"
   ]
  },
  {
   "cell_type": "code",
   "execution_count": null,
   "metadata": {},
   "outputs": [
    {
     "name": "stdout",
     "output_type": "stream",
     "text": [
      "[[0, 0, 0], [0, 0, 1], [0, 0, 2], [0, 1, 0], [0, 1, 1], [0, 1, 3], [0, 2, 0], [0, 2, 2], [0, 2, 3], [1, 0, 0], [1, 0, 1], [1, 0, 3], [1, 1, 0], [1, 1, 2], [1, 1, 3], [1, 2, 1], [1, 2, 2], [1, 2, 3]]\n"
     ]
    }
   ],
   "source": [
    "#list elements sum != n\n",
    "x=int(input(\"enter x value:\"))\n",
    "y=int(input(\"enter y value:\"))\n",
    "z=int(input(\"enter z value:\"))\n",
    "n=int(input(\"enter n value:\"))\n",
    "s=[]\n",
    "for i in range(x+1):\n",
    "    for j in range(y+1):\n",
    "        for k in range(z+1):\n",
    "            if i+j+k!=n:\n",
    "                s.append([i,j,k])\n",
    "print(s)"
   ]
  },
  {
   "cell_type": "code",
   "execution_count": null,
   "metadata": {},
   "outputs": [],
   "source": [
    "# using list comprehensionfor the list elements sum != n\n",
    "x=int(input(\"enter x value:\"))\n",
    "y=int(input(\"enter y value:\"))\n",
    "z=int(input(\"enter z value:\"))\n",
    "n=int(input(\"enter n value:\"))\n",
    "s=[[m,j,k] for m in range(x+1)\n",
    " for j in range(y+1)\n",
    "    for k in  range(z+1)\n",
    "        if m+j+k!=n]\n",
    "print(s)\n",
    "\n",
    "        "
   ]
  },
  {
   "cell_type": "code",
   "execution_count": null,
   "metadata": {},
   "outputs": [
    {
     "name": "stdout",
     "output_type": "stream",
     "text": [
      "99\n",
      "35\n"
     ]
    }
   ],
   "source": [
    "#to print the second highest marks obtained in a list \n",
    "l=[100,100,35,64,95,69,24,36,57,99,99,]\n",
    "a=set(l)\n",
    "b=list(a)\n",
    "b.sort(reverse=True)\n",
    "print(b[1])\n",
    "print(b[-2])"
   ]
  },
  {
   "cell_type": "code",
   "execution_count": null,
   "metadata": {},
   "outputs": [],
   "source": [
    "#to print the second highest marks obtained in a list using loops and sorted key word\n",
    "student=[]\n",
    "for _ in range(int(input(\"enter:\"))):\n",
    "    name=input(\"enter name:\")\n",
    "    score=float(input(\"enter score:\"))\n",
    "    student.append([name,score])\n",
    "unique_grades=sorted(set(score for _,score in student ))\n",
    "second_last=unique_grades[1]\n",
    "second_lowest_student=sorted([name for name,score in student if score == second_last])\n",
    "for student in second_lowest_student:\n",
    "    print(student)"
   ]
  },
  {
   "cell_type": "code",
   "execution_count": null,
   "metadata": {},
   "outputs": [
    {
     "name": "stdout",
     "output_type": "stream",
     "text": [
      "hsereev"
     ]
    }
   ],
   "source": [
    "#to print a string in reverse order\n",
    "name=\"veeresh\"\n",
    "l=len(name)\n",
    "for i in range(l-1,-1,-1):\n",
    " print(name[i],end='')"
   ]
  },
  {
   "cell_type": "code",
   "execution_count": null,
   "metadata": {},
   "outputs": [],
   "source": [
    "#to swapcase of a string without using swapcase keyword\n",
    "def swapcase(s):\n",
    "    m=[]\n",
    "    for item in s:\n",
    "        if item.isalpha():\n",
    "            if item.islower():\n",
    "                m.append(item.upper())\n",
    "            else:\n",
    "                m.append(item.lower())\n",
    "        else:\n",
    "            m.append(item)\n",
    "    return\"\".join(m)\n",
    "s=input(\"enter the string:\")\n",
    "result=swapcase(s)\n",
    "print(result)"
   ]
  },
  {
   "cell_type": "code",
   "execution_count": null,
   "metadata": {},
   "outputs": [
    {
     "name": "stdout",
     "output_type": "stream",
     "text": [
      " \n"
     ]
    }
   ],
   "source": [
    "#concantation of strings\n",
    "firstname=input()\n",
    "secondname=input()\n",
    "def combi_ne(first,last):\n",
    "    print(firstname+\" \"+secondname)\n",
    "combi_ne(firstname,secondname)"
   ]
  },
  {
   "cell_type": "code",
   "execution_count": 5,
   "metadata": {},
   "outputs": [
    {
     "name": "stdout",
     "output_type": "stream",
     "text": [
      "['This', 'is', 'my', 'city']\n",
      "This-is-my-city\n"
     ]
    }
   ],
   "source": [
    "a=\"This is my city\"\n",
    "print(a.split())\n",
    "print(\"-\".join(a.split()))\n"
   ]
  },
  {
   "cell_type": "code",
   "execution_count": null,
   "metadata": {},
   "outputs": [],
   "source": [
    "t=(24,\"svcet\",99.99)#packing\n",
    "a,b,c=t\n",
    "print(a)"
   ]
  },
  {
   "cell_type": "code",
   "execution_count": null,
   "metadata": {},
   "outputs": [
    {
     "name": "stdout",
     "output_type": "stream",
     "text": [
      "{'name': 'Veeresh', 'age': 18, 'marks': [100, 98, 88, 47, 56, 90]}\n",
      "{'name': 'Kakashi', 'age': 18, 'marks': [100, 98, 88, 47, 56, 90]}\n",
      "name : Veeresh\n",
      "age : 18\n",
      "marks : [100, 98, 88, 47, 56, 90]\n",
      "{'name': 'Veeresh', 'age': 18}\n",
      "{}\n",
      "<built-in method copy of dict object at 0x0000024CC1866BC0>\n"
     ]
    }
   ],
   "source": [
    "info={\n",
    "    'name':'Veeresh','age':18,'marks':[100,98,88,47,56,90]\n",
    "}\n",
    "print(info)\n",
    "#changing values\n",
    "info={\n",
    "    'name':'Veeresh','age':18,'marks':[100,98,88,47,56,90]\n",
    "}\n",
    "info['name']=\"Kakashi\" \n",
    "print(info)\n",
    "#for loop\n",
    "info={\n",
    "    'name':'Veeresh','age':18,'marks':[100,98,88,47,56,90]\n",
    "}\n",
    "for k,v in info.items():\n",
    "    print(k,':',v)\n",
    "#pop\n",
    "info.pop('marks')\n",
    "print(info)\n",
    "#clear all values\n",
    "info.clear()\n",
    "print(info)\n",
    "#copy\n",
    "dummy=info.copy()\n",
    "print(dummy)"
   ]
  },
  {
   "cell_type": "code",
   "execution_count": 12,
   "metadata": {},
   "outputs": [
    {
     "name": "stdout",
     "output_type": "stream",
     "text": [
      "setuninon: {1, 2, 3, 4, 5, 6, 7}\n",
      "set intersection: {1, 2, 3, 4}\n",
      "set difference: set()\n",
      "symmetric difference: {5, 6, 7}\n",
      "True\n",
      "{1, 2, 3, 4, 5}\n",
      "{'r', 'e', 'V', 'h', 's'}\n"
     ]
    }
   ],
   "source": [
    "s1={1,2,3,4}\n",
    "s2={1,2,3,4,5,6,7}\n",
    "print('setuninon:',s1|s2)\n",
    "print('set intersection:',s1&s2)\n",
    "print('set difference:',s1-s2)\n",
    "print('symmetric difference:',s1^s2)\n",
    "print(s1.issubset(s2))\n",
    "s1.add(5)\n",
    "print(s1)\n",
    "s=set(\"Veeresh\")\n",
    "print(s)"
   ]
  },
  {
   "cell_type": "code",
   "execution_count": null,
   "metadata": {},
   "outputs": [],
   "source": [
    "#armstrong\n",
    "def arm():\n",
    "    n=int(input(\"Enter the no.:\"))\n",
    "    x=set()\n",
    "    while n!=1 and n not in x:\n",
    "        x.add(n)\n",
    "        sum=0\n",
    "        while n>0:\n",
    "            d=n%10\n",
    "            sum=sum+d**2\n",
    "            n=n//10\n",
    "        n=sum\n",
    "\n",
    "    if n==1:\n",
    "     print(\"Happy number\")\n",
    "    else:\n",
    "        print(\"not a happy number\")\n",
    "arm()"
   ]
  },
  {
   "cell_type": "code",
   "execution_count": null,
   "metadata": {},
   "outputs": [],
   "source": [
    "file=open(\"AI.txt\",'r')\n",
    "c=file.read()\n",
    "print(c)\n",
    "f1=open(\"artificial.txt\",'w')\n",
    "f1.write(\"Hello SVCET\")\n",
    "file.close()\n",
    "f1=open(\"artificial.txt\",'r')\n",
    "x=f1.read()\n",
    "print(x)\n",
    "f1=open(\"artificial.txt\",'a')"
   ]
  },
  {
   "cell_type": "code",
   "execution_count": null,
   "metadata": {},
   "outputs": [],
   "source": [
    "def harshad_number():\n",
    "    n=int(input(\"Enter the no.:\"))\n",
    "    number=n\n",
    "    sum=0\n",
    "    while n>0:\n",
    "        d=n%10\n",
    "        sum=sum+d\n",
    "        n=n//10\n",
    "    print(sum)\n",
    "    if number%sum==0:\n",
    "        print(\"harshad number\")\n",
    "    else:\n",
    "        print(\"not a harsad number\")\n",
    "harshad_number()\n",
    "       \n"
   ]
  },
  {
   "cell_type": "code",
   "execution_count": null,
   "metadata": {},
   "outputs": [],
   "source": [
    "def arm():\n",
    "    n=input()\n",
    "    x=len(str(n))\n",
    "    print(x)\n",
    "    sum=0\n",
    "    while n>0:\n",
    "        d=n%10\n",
    "        sum=sum+d**x\n",
    "        n=n//10\n",
    "    print(sum)\n",
    "    if n==sum:\n",
    "        print(\"It is a armstrong\")\n",
    "    else:\n",
    "        print(\"Not a armsrong\")\n",
    "arm()"
   ]
  },
  {
   "cell_type": "code",
   "execution_count": null,
   "metadata": {},
   "outputs": [],
   "source": [
    "n=int(input(\"enter a number:\"))\n",
    "square=n*n\n",
    "print(square)\n",
    "if str(square).endswith(\"25\"):\n",
    "    print(f\"{square} ends with 25\")\n",
    "else:\n",
    "    print(f\"{square} does not end with 25\")"
   ]
  },
  {
   "cell_type": "code",
   "execution_count": null,
   "metadata": {},
   "outputs": [],
   "source": [
    "string=\"ABCDCDC\"\n",
    "substring=\"CDC\"\n",
    "start=0\n",
    "end=len(substring)\n",
    "count=0\n",
    "while end<=len(string):\n",
    "    if substring==string[start:end]:\n",
    "        count+=1\n",
    "    start+=1\n",
    "    end+=1\n",
    "    \n",
    "print(count)\n",
    "     "
   ]
  }
 ],
 "metadata": {
  "kernelspec": {
   "display_name": "Python 3",
   "language": "python",
   "name": "python3"
  },
  "language_info": {
   "codemirror_mode": {
    "name": "ipython",
    "version": 3
   },
   "file_extension": ".py",
   "mimetype": "text/x-python",
   "name": "python",
   "nbconvert_exporter": "python",
   "pygments_lexer": "ipython3",
   "version": "3.12.1"
  }
 },
 "nbformat": 4,
 "nbformat_minor": 2
}
